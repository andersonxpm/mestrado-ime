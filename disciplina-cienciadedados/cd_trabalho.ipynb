{
  "cells": [
    {
      "cell_type": "markdown",
      "metadata": {
        "colab_type": "text",
        "id": "view-in-github"
      },
      "source": [
        "<a href=\"https://colab.research.google.com/github/andersonxpm/mestrado-ime/blob/master/cd_trabalho.ipynb\" target=\"_parent\"><img src=\"https://colab.research.google.com/assets/colab-badge.svg\" alt=\"Open In Colab\"/></a>"
      ]
    },
    {
      "cell_type": "markdown",
      "metadata": {
        "id": "haIJoPt_pDxv"
      },
      "source": [
        "\n",
        "Trabalho: Ciência de Dados / Anderson Xavier de Paiva Mello\n",
        "\n",
        "\n"
      ]
    },
    {
      "cell_type": "markdown",
      "metadata": {
        "id": "deernfpapQ17"
      },
      "source": [
        "1. Instalação dos pacotes"
      ]
    },
    {
      "cell_type": "code",
      "execution_count": 9,
      "metadata": {
        "id": "Jkf6Dypg7jmN"
      },
      "outputs": [],
      "source": [
        "import pandas as pd\n",
        "import numpy as np\n",
        "import seaborn as sns\n",
        "import matplotlib.pyplot as plt\n",
        "from functools import partial\n",
        "\n",
        "from sklearn.metrics import accuracy_score, average_precision_score, classification_report, confusion_matrix, make_scorer, precision_recall_curve, roc_curve, roc_auc_score\n",
        "from sklearn.model_selection import GridSearchCV, train_test_split\n",
        "from sklearn.pipeline import Pipeline\n",
        "from sklearn.preprocessing import LabelEncoder, StandardScaler\n",
        "from imblearn.pipeline import Pipeline as ImbPipeline\n",
        "from imblearn.over_sampling import SMOTE\n",
        "\n",
        "from sklearn.ensemble import IsolationForest, RandomForestClassifier\n",
        "from sklearn.linear_model import LogisticRegression\n",
        "from sklearn.svm import OneClassSVM"
      ]
    },
    {
      "cell_type": "markdown",
      "metadata": {
        "id": "Llf2NH2OpVYV"
      },
      "source": [
        "2. Upload do dataset"
      ]
    },
    {
      "cell_type": "code",
      "execution_count": 10,
      "metadata": {
        "colab": {
          "base_uri": "https://localhost:8080/"
        },
        "collapsed": true,
        "id": "F7fHDm7S7nbz",
        "outputId": "486aae95-161a-454f-fdaf-f0abf39418af"
      },
      "outputs": [
        {
          "name": "stdout",
          "output_type": "stream",
          "text": [
            "Dados carregados com sucesso!\n"
          ]
        }
      ],
      "source": [
        "## PROC ##\n",
        "\n",
        "bi = pd.read_csv('base_nt_poc.csv', encoding='latin-1')\n",
        "print(\"Dados carregados com sucesso!\")"
      ]
    },
    {
      "cell_type": "code",
      "execution_count": 11,
      "metadata": {
        "colab": {
          "base_uri": "https://localhost:8080/"
        },
        "collapsed": true,
        "id": "eXaTrG9S6S1v",
        "outputId": "b9eeafa9-9a99-46e3-e505-3f2d7a03f3cf"
      },
      "outputs": [
        {
          "name": "stdout",
          "output_type": "stream",
          "text": [
            "<class 'pandas.core.frame.DataFrame'>\n",
            "RangeIndex: 88045 entries, 0 to 88044\n",
            "Data columns (total 17 columns):\n",
            " #   Column                            Non-Null Count  Dtype  \n",
            "---  ------                            --------------  -----  \n",
            " 0   data_solicitacao                  88045 non-null  object \n",
            " 1   id_prestador_executor             88045 non-null  object \n",
            " 2   classificacao_prestador_executor  88045 non-null  object \n",
            " 3   cpf_tutor                         88045 non-null  object \n",
            " 4   cidade_tutor                      88045 non-null  object \n",
            " 5   estado_tutor                      88045 non-null  object \n",
            " 6   id_pet_tutor                      88045 non-null  object \n",
            " 7   idade_pet_anos                    88045 non-null  float64\n",
            " 8   especie                           88045 non-null  object \n",
            " 9   raca_pet                          88045 non-null  object \n",
            " 10  genero_pet                        88040 non-null  object \n",
            " 11  id_plano                          88045 non-null  object \n",
            " 12  valor_mensal_plano                88045 non-null  float64\n",
            " 13  id_procedimento                   88045 non-null  object \n",
            " 14  ds_grupo_procedimento             88045 non-null  object \n",
            " 15  valor                             88045 non-null  float64\n",
            " 16  fl_glosa_definitiva               88045 non-null  int64  \n",
            "dtypes: float64(3), int64(1), object(13)\n",
            "memory usage: 11.4+ MB\n"
          ]
        }
      ],
      "source": [
        "data1 = bi.copy()\n",
        "data1.info()"
      ]
    },
    {
      "cell_type": "code",
      "execution_count": 12,
      "metadata": {
        "colab": {
          "base_uri": "https://localhost:8080/"
        },
        "collapsed": true,
        "id": "MEOjqMmS6kDd",
        "outputId": "f930fbd6-f427-4054-f18d-8684883e05a4"
      },
      "outputs": [
        {
          "name": "stdout",
          "output_type": "stream",
          "text": [
            "📅 Data mínima: 2024-01-01 00:00:00\n",
            "📅 Data máxima: 2024-01-31 00:00:00\n"
          ]
        }
      ],
      "source": [
        "# Garantir que a coluna está no formato datetime\n",
        "data1['data_solicitacao'] = pd.to_datetime(data1['data_solicitacao'])\n",
        "\n",
        "# Datas mínima e máxima\n",
        "data_min = data1['data_solicitacao'].min()\n",
        "data_max = data1['data_solicitacao'].max()\n",
        "\n",
        "print(\"📅 Data mínima:\", data_min)\n",
        "print(\"📅 Data máxima:\", data_max)"
      ]
    },
    {
      "cell_type": "markdown",
      "metadata": {
        "id": "RD96p1aYkjTi"
      },
      "source": [
        "3.   Limpeza dos dados\n",
        "\n"
      ]
    },
    {
      "cell_type": "code",
      "execution_count": 13,
      "metadata": {
        "collapsed": true,
        "id": "lFsfXZfTbUMV"
      },
      "outputs": [],
      "source": [
        "## PROC ##\n",
        "\n",
        "# Gravando bi = data\n",
        "data = bi.copy()"
      ]
    },
    {
      "cell_type": "code",
      "execution_count": 6,
      "metadata": {
        "id": "bg-X2otScNU4"
      },
      "outputs": [],
      "source": [
        "## PROC ##\n",
        "\n",
        "# Tratar valores nulos - aqui, removemos as linhas com valores nulos em 'genero_pet' e valores negativos em 'idade_pet_anos' e 'valor'\n",
        "data = data.dropna(subset=['genero_pet'])\n",
        "data = data[(data['idade_pet_anos'] >= 0)]\n",
        "data = data[(data['valor_mensal_plano'] >= 0)]\n",
        "data = data[(data['valor'] >= 0)]"
      ]
    },
    {
      "cell_type": "code",
      "execution_count": 7,
      "metadata": {
        "id": "S8ncqpj7xrqT"
      },
      "outputs": [],
      "source": [
        "## PROC ##\n",
        "\n",
        "# Remover colunas irrelevantes\n",
        "## As variáveis numéricas não possuem alta correlação de acordo com o coeficiente de Pearson, de -1 a +1)\n",
        "cols_to_remove = ['data_solicitacao', 'cpf_tutor', 'id_pet_tutor', 'id_procedimento']\n",
        "data = data.drop(columns=cols_to_remove)"
      ]
    },
    {
      "cell_type": "markdown",
      "metadata": {
        "id": "SiJGb_0umOKM"
      },
      "source": [
        "4. Análise exploratória"
      ]
    },
    {
      "cell_type": "code",
      "execution_count": null,
      "metadata": {
        "colab": {
          "base_uri": "https://localhost:8080/",
          "height": 492
        },
        "collapsed": true,
        "id": "p9oKJT3XcV4j",
        "outputId": "e8fce4be-2c6f-4dac-cc8a-2019ca552917"
      },
      "outputs": [],
      "source": [
        "# Análise: tipo das variáveis\n",
        "data.dtypes"
      ]
    },
    {
      "cell_type": "code",
      "execution_count": null,
      "metadata": {
        "colab": {
          "base_uri": "https://localhost:8080/"
        },
        "collapsed": true,
        "id": "AvLnBtTVjVyE",
        "outputId": "bb7c26a1-30bc-4e35-b637-102cf32ebf2e"
      },
      "outputs": [],
      "source": [
        "# Análise: explorar dataset\n",
        "data.info()"
      ]
    },
    {
      "cell_type": "code",
      "execution_count": null,
      "metadata": {
        "colab": {
          "base_uri": "https://localhost:8080/",
          "height": 467
        },
        "collapsed": true,
        "id": "Uurp7BOwl43F",
        "outputId": "c7bfefb6-ea79-472c-c001-98e2cdc085fa"
      },
      "outputs": [],
      "source": [
        "# Análise: descrição do dataset\n",
        "data.describe(include='all')"
      ]
    },
    {
      "cell_type": "code",
      "execution_count": null,
      "metadata": {
        "colab": {
          "base_uri": "https://localhost:8080/"
        },
        "collapsed": true,
        "id": "MfUfJwB2a04F",
        "outputId": "494a47d7-2229-4207-88fc-33e97d04bc65"
      },
      "outputs": [],
      "source": [
        "# Verificando valores nulos\n",
        "print(\"Valores nulos por coluna:\\n\", data.isnull().sum())"
      ]
    },
    {
      "cell_type": "code",
      "execution_count": null,
      "metadata": {
        "colab": {
          "base_uri": "https://localhost:8080/"
        },
        "collapsed": true,
        "id": "bRkiyStjcz2S",
        "outputId": "132bba45-306d-41a3-8f01-25c3be6543d5"
      },
      "outputs": [],
      "source": [
        "# Verificando valores negativos\n",
        "negativos = data.select_dtypes(include=[np.number]).lt(0).sum()\n",
        "print(\"Valores negativos por coluna:\\n\", negativos[negativos > 0])"
      ]
    },
    {
      "cell_type": "code",
      "execution_count": null,
      "metadata": {
        "colab": {
          "base_uri": "https://localhost:8080/",
          "height": 178
        },
        "id": "Vv7VlNnBlUZI",
        "outputId": "8ee8461f-703a-4b84-95a0-cb786533cb21"
      },
      "outputs": [],
      "source": [
        "# Proporção de glosas\n",
        "data['fl_glosa_definitiva'].value_counts(normalize=True)"
      ]
    },
    {
      "cell_type": "code",
      "execution_count": null,
      "metadata": {
        "colab": {
          "base_uri": "https://localhost:8080/",
          "height": 472
        },
        "id": "u20yxT0MnPjo",
        "outputId": "d4d05f4d-95ed-4b69-ba85-0b5a2dfbe493"
      },
      "outputs": [],
      "source": [
        "# Proporção de glosas - distribuição da variável alvo\n",
        "sns.countplot(data=data, x='fl_glosa_definitiva')\n",
        "plt.title('Distribuição da variável alvo (glosa definitiva)')\n",
        "plt.show()"
      ]
    },
    {
      "cell_type": "code",
      "execution_count": null,
      "metadata": {
        "colab": {
          "base_uri": "https://localhost:8080/",
          "height": 492
        },
        "id": "rF03gIhomVA3",
        "outputId": "374a1e95-575d-4d4e-dcb9-8048b4d70bb8"
      },
      "outputs": [],
      "source": [
        "# Cardinalidade das variáveis\n",
        "data.nunique().sort_values(ascending=False)"
      ]
    },
    {
      "cell_type": "code",
      "execution_count": null,
      "metadata": {
        "colab": {
          "base_uri": "https://localhost:8080/",
          "height": 453
        },
        "id": "6TDXuoPTowk7",
        "outputId": "0a606eb1-f9fa-4e18-ae77-e3c6827d5073"
      },
      "outputs": [],
      "source": [
        "# Correlação entre variáveis numéricas\n",
        "num_cols = ['idade_pet_anos', 'valor_mensal_plano', 'valor']\n",
        "\n",
        "sns.heatmap(data[num_cols].corr(), annot=True, cmap='coolwarm')\n",
        "plt.title('Correlação entre variáveis numéricas')\n",
        "plt.show()"
      ]
    },
    {
      "cell_type": "code",
      "execution_count": null,
      "metadata": {
        "colab": {
          "base_uri": "https://localhost:8080/",
          "height": 1000
        },
        "collapsed": true,
        "id": "Dl6Q1K1enhM8",
        "outputId": "d8eed14b-7f4d-47fb-f913-406532802f0b"
      },
      "outputs": [],
      "source": [
        "# Análise univariada de variáveis contínuas\n",
        "num_cols = ['idade_pet_anos', 'valor_mensal_plano', 'valor']\n",
        "\n",
        "for col in num_cols:\n",
        "    sns.histplot(data[col], kde=True)\n",
        "    plt.title(f'Distribuição da variável {col}')\n",
        "    plt.show()\n",
        "\n",
        "for col in num_cols:\n",
        "    sns.boxplot(data=data2, x='fl_glosa_definitiva', y=col)\n",
        "    plt.title(f'{col} por glosa')\n",
        "    plt.show()"
      ]
    },
    {
      "cell_type": "code",
      "execution_count": null,
      "metadata": {
        "id": "5lCME0-ApbNx"
      },
      "outputs": [],
      "source": [
        "# Análise univariada de variáveis contínuas - estatísticas básicas\n",
        "num_cols = data.select_dtypes(include=['number'])\n",
        "\n",
        "# Média\n",
        "media = num_cols.mean()\n",
        "\n",
        "# Desvio padrão\n",
        "desvio = num_cols.std()\n",
        "\n",
        "# Moda (pode haver mais de uma, por isso [0])\n",
        "moda = num_cols.mode().iloc[0]\n",
        "\n",
        "resumo = pd.DataFrame({\n",
        "    'média': media,\n",
        "    'moda': moda,\n",
        "    'desvio_padrão': desvio\n",
        "})\n",
        "\n",
        "print(resumo)"
      ]
    },
    {
      "cell_type": "code",
      "execution_count": null,
      "metadata": {
        "colab": {
          "base_uri": "https://localhost:8080/",
          "height": 1000
        },
        "id": "m2D7OyRBnyGj",
        "outputId": "855329c5-5181-4cb0-9f36-3217ae4227a9"
      },
      "outputs": [],
      "source": [
        "# Análise univariada de variáveis categóricas\n",
        "cat_cols = ['classificacao_prestador_executor', 'cidade_tutor', 'estado_tutor',\n",
        "            'especie', 'raca_pet', 'genero_pet', 'ds_grupo_procedimento']\n",
        "\n",
        "for col in cat_cols:\n",
        "    plt.figure(figsize=(12, 5))\n",
        "    sns.countplot(data=data, y=col, order=bi[col].value_counts().index[:10])\n",
        "    plt.title(f'{col} - Top 10 categorias')\n",
        "    plt.show()"
      ]
    },
    {
      "cell_type": "code",
      "execution_count": null,
      "metadata": {
        "colab": {
          "base_uri": "https://localhost:8080/",
          "height": 407
        },
        "collapsed": true,
        "id": "khjV2qc7xEOG",
        "outputId": "ae80359b-560e-4d78-8ccd-7f2d2eaece39"
      },
      "outputs": [],
      "source": [
        "# Converter a coluna de datas para datetime (se ainda não estiver)\n",
        "data1 = bi.copy()\n",
        "##data1['data_solicitacao'] = pd.to_datetime(data1['data_solicitacao'])\n",
        "\n",
        "# Agrupar por data e contar o número de procedimentos por dia\n",
        "volume_diario = data1.groupby('data_solicitacao').size()\n",
        "\n",
        "# Plotar\n",
        "plt.figure(figsize=(9, 4))\n",
        "volume_diario.plot(kind='bar')\n",
        "plt.title('Volume Diário de Procedimentos')\n",
        "plt.xlabel('Data da Solicitação')\n",
        "plt.ylabel('Número de Procedimentos')\n",
        "plt.tight_layout()\n",
        "plt.show()"
      ]
    },
    {
      "cell_type": "code",
      "execution_count": null,
      "metadata": {
        "colab": {
          "base_uri": "https://localhost:8080/",
          "height": 476
        },
        "collapsed": true,
        "id": "z9TmQHs01YI8",
        "outputId": "e63d69f2-229a-4c36-f1d2-3b0627d00b40"
      },
      "outputs": [],
      "source": [
        "# Análise bivariada categórica × glosa\n",
        "prop_df = pd.crosstab(data1['data_solicitacao'], data1['fl_glosa_definitiva'], normalize='index')\n",
        "prop_df.plot(kind='bar', stacked=True, figsize=(10.5, 4))\n",
        "plt.title('Proporção de glosa por data_solicitacao')\n",
        "plt.ylabel('Proporção')\n",
        "plt.show()"
      ]
    },
    {
      "cell_type": "code",
      "execution_count": null,
      "metadata": {
        "colab": {
          "base_uri": "https://localhost:8080/",
          "height": 1000
        },
        "id": "VzTC170xnPQS",
        "outputId": "b1a236b3-b5c9-4f46-8ac8-656e85484595"
      },
      "outputs": [],
      "source": [
        "# Análise bivariada categórica × glosa\n",
        "cat_cols = ['classificacao_prestador_executor', 'cidade_tutor', 'estado_tutor',\n",
        "            'especie', 'raca_pet', 'genero_pet', 'ds_grupo_procedimento']\n",
        "\n",
        "for col in cat_cols:\n",
        "    prop_df = pd.crosstab(data[col], data['fl_glosa_definitiva'], normalize='index')\n",
        "    prop_df.plot(kind='bar', stacked=True, figsize=(10, 5))\n",
        "    plt.title(f'Proporção de glosa por {col}')\n",
        "    plt.ylabel('Proporção')\n",
        "    plt.show()"
      ]
    },
    {
      "cell_type": "code",
      "execution_count": null,
      "metadata": {
        "colab": {
          "base_uri": "https://localhost:8080/",
          "height": 472
        },
        "id": "6LkGO0ZEvDd5",
        "outputId": "882ae798-5b27-4e01-d147-22f3f033ed18"
      },
      "outputs": [],
      "source": [
        "# Balanceamento da base (ver repetição de prestadores, procedimentos etc.)\n",
        "prestador_glosa = data.groupby('id_prestador_executor')['fl_glosa_definitiva'].mean()\n",
        "prestador_glosa.hist(bins=30)\n",
        "plt.title('Taxa média de glosa por prestador')\n",
        "plt.xlabel('Taxa de glosa')\n",
        "plt.ylabel('Frequência')\n",
        "plt.show()"
      ]
    },
    {
      "cell_type": "markdown",
      "metadata": {
        "id": "NIH3koRShgp7"
      },
      "source": [
        "5. Deteccao de outliers"
      ]
    },
    {
      "cell_type": "code",
      "execution_count": null,
      "metadata": {
        "colab": {
          "base_uri": "https://localhost:8080/"
        },
        "collapsed": true,
        "id": "8BSnS7OshLFf",
        "outputId": "cfc01706-2cb7-473b-d8f2-f8d054a44c62"
      },
      "outputs": [],
      "source": [
        "## PROC ##\n",
        "\n",
        "# Deteccao de outlier\n",
        "coluna = 'idade_pet_anos'  # Substitua pelo nome da coluna a analisar\n",
        "\n",
        "Q1 = data[coluna].quantile(0.25)\n",
        "Q3 = data[coluna].quantile(0.75)\n",
        "IQR = Q3 - Q1\n",
        "\n",
        "limite_inferior = Q1 - 1.5 * IQR\n",
        "limite_superior = Q3 + 1.5 * IQR\n",
        "\n",
        "print(f\"Limites para '{coluna}': {limite_inferior:.2f} a {limite_superior:.2f}\")\n",
        "\n",
        "data[f'{coluna}_outlier'] = (data[coluna] <= limite_inferior) | (data[coluna] >= limite_superior)\n",
        "\n",
        "##data[['idade_pet_anos', 'idade_pet_anos_outlier']].head(10)\n",
        "##data.loc[data[f'{coluna}_outlier'] == True, ['idade_pet_anos', 'idade_pet_anos_outlier']]"
      ]
    },
    {
      "cell_type": "code",
      "execution_count": null,
      "metadata": {
        "colab": {
          "base_uri": "https://localhost:8080/"
        },
        "collapsed": true,
        "id": "0psdRIlv0esf",
        "outputId": "d2e89a43-c5a9-4414-f64e-4bb843c1993b"
      },
      "outputs": [],
      "source": [
        "## PROC ##\n",
        "\n",
        "# Deteccao de outlier\n",
        "coluna = 'valor_mensal_plano'  # Substitua pelo nome da coluna a analisar\n",
        "\n",
        "Q1 = data[coluna].quantile(0.25)\n",
        "Q3 = data[coluna].quantile(0.75)\n",
        "IQR = Q3 - Q1\n",
        "\n",
        "limite_inferior = Q1 - 1.5 * IQR\n",
        "limite_superior = Q3 + 1.5 * IQR\n",
        "\n",
        "print(f\"Limites para '{coluna}': {limite_inferior:.2f} a {limite_superior:.2f}\")\n",
        "\n",
        "data[f'{coluna}_outlier'] = (data[coluna] <= limite_inferior) | (data[coluna] >= limite_superior)\n",
        "\n",
        "##data[['valor_mensal_plano', 'valor_mensal_plano_outlier']].head(10)\n",
        "##data.loc[data[f'{coluna}_outlier'] == True, ['valor_mensal_plano', 'valor_mensal_plano_outlier']]"
      ]
    },
    {
      "cell_type": "code",
      "execution_count": null,
      "metadata": {
        "colab": {
          "base_uri": "https://localhost:8080/"
        },
        "collapsed": true,
        "id": "JWDSkmxL0sBy",
        "outputId": "ae74afe1-1e2f-493d-a1eb-b4e123dc4787"
      },
      "outputs": [],
      "source": [
        "## PROC ##\n",
        "\n",
        "# Deteccao de outlier\n",
        "coluna = 'valor'  # Substitua pelo nome da coluna a analisar\n",
        "\n",
        "Q1 = data[coluna].quantile(0.25)\n",
        "Q3 = data[coluna].quantile(0.75)\n",
        "IQR = Q3 - Q1\n",
        "\n",
        "limite_inferior = Q1 - 1.5 * IQR\n",
        "limite_superior = Q3 + 1.5 * IQR\n",
        "\n",
        "print(f\"Limites para '{coluna}': {limite_inferior:.2f} a {limite_superior:.2f}\")\n",
        "\n",
        "data[f'{coluna}_outlier'] = (data[coluna] <= limite_inferior) | (data[coluna] >= limite_superior)\n",
        "\n",
        "##data[['valor', 'valor_outlier']].head(10)\n",
        "##data.loc[data[f'{coluna}_outlier'] == True, ['valor', 'valor_outlier']]"
      ]
    },
    {
      "cell_type": "code",
      "execution_count": 29,
      "metadata": {
        "id": "1No4foLp0989"
      },
      "outputs": [],
      "source": [
        "## PROC ##\n",
        "\n",
        "# Removendo outliers\n",
        "data2 = data.copy()\n",
        "\n",
        "data2 = data2[data2['idade_pet_anos_outlier'] == False]\n",
        "data2 = data2[data2['valor_mensal_plano_outlier'] == False]\n",
        "data2 = data2[data2['valor_outlier'] == False]"
      ]
    },
    {
      "cell_type": "code",
      "execution_count": 30,
      "metadata": {
        "id": "1m6ivygV1jUG"
      },
      "outputs": [],
      "source": [
        "## PROC ##\n",
        "\n",
        "# Removendo a coluna auxiliar dos outliers\n",
        "data2 = data2.drop(columns=['idade_pet_anos_outlier'])\n",
        "data2 = data2.drop(columns=['valor_mensal_plano_outlier'])\n",
        "data2 = data2.drop(columns=['valor_outlier'])"
      ]
    },
    {
      "cell_type": "code",
      "execution_count": null,
      "metadata": {
        "colab": {
          "base_uri": "https://localhost:8080/",
          "height": 178
        },
        "collapsed": true,
        "id": "hMbibQsVv6XB",
        "outputId": "f5a2119d-fafe-4fea-a3fd-6c232fadbb50"
      },
      "outputs": [],
      "source": [
        "# Contagem da variavel de controle\n",
        "data2['fl_glosa_definitiva'].value_counts()"
      ]
    },
    {
      "cell_type": "markdown",
      "metadata": {
        "id": "K683zZwdy7-5"
      },
      "source": [
        "Preparação das bases para os modelos\n",
        "---"
      ]
    },
    {
      "cell_type": "code",
      "execution_count": null,
      "metadata": {
        "colab": {
          "base_uri": "https://localhost:8080/"
        },
        "id": "YCr91FjNOGuq",
        "outputId": "d1ca0115-44d8-44ca-b5e0-a0a7c40332be"
      },
      "outputs": [],
      "source": [
        "data2.info()"
      ]
    },
    {
      "cell_type": "code",
      "execution_count": 34,
      "metadata": {
        "id": "yTJwMeImy7qo"
      },
      "outputs": [],
      "source": [
        "# Separando X (features) e y (rótulo real de glosa)\n",
        "data3 = data2.copy()\n",
        "\n",
        "col_order = ['id_plano',\n",
        "             'id_prestador_executor',\n",
        "             'classificacao_prestador_executor',\n",
        "             'ds_grupo_procedimento',\n",
        "             'cidade_tutor',\n",
        "             'estado_tutor',\n",
        "             'especie',\n",
        "             'raca_pet',\n",
        "             'genero_pet',\n",
        "             'idade_pet_anos',\n",
        "             'valor',\n",
        "             'valor_mensal_plano',\n",
        "             'fl_glosa_definitiva']\n",
        "\n",
        "data3 = data3[col_order]\n",
        "\n",
        "X = data3.drop(columns=['fl_glosa_definitiva', 'id_plano', 'id_prestador_executor']) # Drop ID columns\n",
        "y_true = data3['fl_glosa_definitiva']\n",
        "\n",
        "# Split com estratificação para manter a proporção de glosas\n",
        "X_train, X_test, y_train, y_test = train_test_split(\n",
        "    X, y_true, stratify=y_true, test_size=0.3, random_state=42)\n",
        "\n",
        "# Identifica as variáveis/colunas categóricas\n",
        "categorical_cols = X_train.select_dtypes(include='object').columns\n",
        "\n",
        "# Aplica o one-hot encoding nas bases de treino e teste\n",
        "X_train = pd.get_dummies(X_train, columns=categorical_cols, drop_first=True)\n",
        "X_test = pd.get_dummies(X_test, columns=categorical_cols, drop_first=True)\n",
        "\n",
        "# Reindex X_test para dar match com X_train depois do one-hot encoding\n",
        "X_test = X_test.reindex(columns=X_train.columns, fill_value=0)\n",
        "\n",
        "# Normalizando os dados\n",
        "scaler = StandardScaler()\n",
        "X_train_scaled = scaler.fit_transform(X_train)\n",
        "X_test_scaled = scaler.transform(X_test)"
      ]
    },
    {
      "cell_type": "markdown",
      "metadata": {
        "id": "hSA3mamhptkz"
      },
      "source": [
        "Regressão Logística - Modelo\n",
        "---"
      ]
    },
    {
      "cell_type": "code",
      "execution_count": 35,
      "metadata": {
        "id": "UDGjy82asrWa"
      },
      "outputs": [],
      "source": [
        "# Copiando as variáveis\n",
        "X_rl = X.copy()\n",
        "y_true_rl = y_true.copy()\n",
        "\n",
        "X_train_rl = X_train.copy()\n",
        "X_test_rl = X_test.copy()\n",
        "y_train_rl = y_train.copy()\n",
        "y_test_rl = y_test.copy()\n",
        "\n",
        "X_train_scaled_rl = X_train_scaled.copy()\n",
        "X_test_scaled_rl = X_test_scaled.copy()\n",
        "\n",
        "# Identificando as variáveis categóricas\n",
        "categorical_cols_rl = X_rl.select_dtypes(include='object').columns\n",
        "\n",
        "# Aplicando one-hot encoding nas variáveis categóricas\n",
        "X_rl = pd.get_dummies(X_rl, columns=categorical_cols_rl, drop_first=True)\n",
        "\n",
        "# Pipeline SEM balanceamento\n",
        "pipeline_sem_balanceamento = Pipeline(steps=[\n",
        "    ('scaler', StandardScaler()),\n",
        "    ('clf', LogisticRegression(max_iter=1000, random_state=42))\n",
        "])\n",
        "\n",
        "# Pipeline COM balanceamento MOTE\n",
        "pipeline_com_smote = ImbPipeline(steps=[\n",
        "    ('scaler', StandardScaler()),\n",
        "    ('smote', SMOTE(random_state=42)),\n",
        "    ('clf', LogisticRegression(max_iter=1000, random_state=42))\n",
        "])\n",
        "\n",
        "# Pipeline COM balanceamento class_weight='balanced'\n",
        "pipeline_com_class_weight = Pipeline(steps=[\n",
        "    ('scaler', StandardScaler()),\n",
        "    ('clf', LogisticRegression(max_iter=1000, class_weight='balanced', random_state=42))\n",
        "])"
      ]
    },
    {
      "cell_type": "code",
      "execution_count": 36,
      "metadata": {
        "id": "oV7O5TWztIZC"
      },
      "outputs": [],
      "source": [
        "# Treinamento dos pipelines\n",
        "pipeline_sem_balanceamento.fit(X_train_rl, y_train_rl)\n",
        "pipeline_com_smote.fit(X_train_rl, y_train_rl)\n",
        "pipeline_com_class_weight.fit(X_train_rl, y_train_rl)\n",
        "\n",
        "# Predições\n",
        "y_pred_sem_rl = pipeline_sem_balanceamento.predict(X_test_rl)\n",
        "y_pred_smote_rl = pipeline_com_smote.predict(X_test_rl)\n",
        "y_pred_weight_rl = pipeline_com_class_weight.predict(X_test_rl)\n",
        "\n",
        "y_proba_sem_rl = pipeline_sem_balanceamento.predict_proba(X_test_rl)[:, 1]\n",
        "y_proba_smote_rl = pipeline_com_smote.predict_proba(X_test_rl)[:, 1]\n",
        "y_proba_weight_rl = pipeline_com_class_weight.predict_proba(X_test_rl)[:, 1]"
      ]
    },
    {
      "cell_type": "code",
      "execution_count": null,
      "metadata": {
        "colab": {
          "base_uri": "https://localhost:8080/",
          "height": 809
        },
        "collapsed": true,
        "id": "BpDK89C3tNxS",
        "outputId": "4e0f280e-b97c-4b9d-e3db-1104113329c3"
      },
      "outputs": [],
      "source": [
        "# Métricas - RL sem balanceamento\n",
        "y_true_binary = y_test_rl\n",
        "y_pred_binary = y_pred_sem_rl\n",
        "y_pred_proba = y_proba_sem_rl\n",
        "\n",
        "print(\"\\n🔍 Classification Report:\")\n",
        "print(classification_report(y_true_binary, y_pred_binary, digits=4))\n",
        "\n",
        "print(\"\\n📊 Confusion Matrix:\")\n",
        "print(confusion_matrix(y_true_binary, y_pred_binary))\n",
        "\n",
        "roc_auc = roc_auc_score(y_true_binary, y_pred_proba)\n",
        "pr_auc = average_precision_score(y_true_binary, y_pred_proba)\n",
        "print(f\"\\n📈 ROC AUC: {roc_auc:.4f}\")\n",
        "print(f\"📉 PR AUC (Average Precision): {pr_auc:.4f}\")\n",
        "\n",
        "# Curva Precision-Recall\n",
        "precision, recall, _ = precision_recall_curve(y_true_binary, y_pred_proba)\n",
        "plt.figure(figsize=(8, 5))\n",
        "plt.plot(recall, precision, label=f'PR AUC = {pr_auc:.4f}')\n",
        "plt.xlabel('Recall')\n",
        "plt.ylabel('Precision')\n",
        "plt.title('Precision-Recall Curve')\n",
        "plt.grid()\n",
        "plt.legend()\n",
        "plt.show()"
      ]
    },
    {
      "cell_type": "code",
      "execution_count": null,
      "metadata": {
        "colab": {
          "base_uri": "https://localhost:8080/",
          "height": 809
        },
        "collapsed": true,
        "id": "zaNVyjBiuFkN",
        "outputId": "0969d9bc-e0d5-4cf3-c5d9-53ea84f862b4"
      },
      "outputs": [],
      "source": [
        "# Métricas - RL com balanceamento SMOTE\n",
        "y_true_binary = y_test_rl\n",
        "y_pred_binary = y_pred_smote_rl\n",
        "y_pred_proba = y_proba_smote_rl\n",
        "\n",
        "\n",
        "print(\"\\n🔍 Classification Report:\")\n",
        "print(classification_report(y_true_binary, y_pred_binary, digits=4))\n",
        "\n",
        "print(\"\\n📊 Confusion Matrix:\")\n",
        "print(confusion_matrix(y_true_binary, y_pred_binary))\n",
        "\n",
        "roc_auc = roc_auc_score(y_true_binary, y_pred_proba)\n",
        "pr_auc = average_precision_score(y_true_binary, y_pred_proba)\n",
        "print(f\"\\n📈 ROC AUC: {roc_auc:.4f}\")\n",
        "print(f\"📉 PR AUC (Average Precision): {pr_auc:.4f}\")\n",
        "\n",
        "# Curva Precision-Recall\n",
        "precision, recall, _ = precision_recall_curve(y_true_binary, y_pred_proba)\n",
        "plt.figure(figsize=(8, 5))\n",
        "plt.plot(recall, precision, label=f'PR AUC = {pr_auc:.4f}')\n",
        "plt.xlabel('Recall')\n",
        "plt.ylabel('Precision')\n",
        "plt.title('Precision-Recall Curve')\n",
        "plt.grid()\n",
        "plt.legend()\n",
        "plt.show()"
      ]
    },
    {
      "cell_type": "code",
      "execution_count": null,
      "metadata": {
        "colab": {
          "base_uri": "https://localhost:8080/",
          "height": 809
        },
        "collapsed": true,
        "id": "EpiiqHpLuNhG",
        "outputId": "cf88eb75-0f5d-4bd5-c731-6d4146dcbe91"
      },
      "outputs": [],
      "source": [
        "# Métricas - RL com balanceamento class_weight='balanced'\n",
        "y_true_binary = y_test_rl\n",
        "y_pred_binary = y_pred_weight_rl\n",
        "y_pred_proba = y_proba_weight_rl\n",
        "\n",
        "\n",
        "print(\"\\n🔍 Classification Report:\")\n",
        "print(classification_report(y_true_binary, y_pred_binary, digits=4))\n",
        "\n",
        "print(\"\\n📊 Confusion Matrix:\")\n",
        "print(confusion_matrix(y_true_binary, y_pred_binary))\n",
        "\n",
        "roc_auc = roc_auc_score(y_true_binary, y_pred_proba)\n",
        "pr_auc = average_precision_score(y_true_binary, y_pred_proba)\n",
        "print(f\"\\n📈 ROC AUC: {roc_auc:.4f}\")\n",
        "print(f\"📉 PR AUC (Average Precision): {pr_auc:.4f}\")\n",
        "\n",
        "# Curva Precision-Recall\n",
        "precision, recall, _ = precision_recall_curve(y_true_binary, y_pred_proba)\n",
        "plt.figure(figsize=(8, 5))\n",
        "plt.plot(recall, precision, label=f'PR AUC = {pr_auc:.4f}')\n",
        "plt.xlabel('Recall')\n",
        "plt.ylabel('Precision')\n",
        "plt.title('Precision-Recall Curve')\n",
        "plt.grid()\n",
        "plt.legend()\n",
        "plt.show()"
      ]
    },
    {
      "cell_type": "markdown",
      "metadata": {
        "id": "-zedvRg0myeX"
      },
      "source": [
        "Isolation Forest - Modelo\n",
        "---"
      ]
    },
    {
      "cell_type": "code",
      "execution_count": 40,
      "metadata": {
        "id": "HkUV-LpDmwwW"
      },
      "outputs": [],
      "source": [
        "# Copiando as variáveis\n",
        "X_if = X.copy()\n",
        "y_true_if = y_true.copy()\n",
        "\n",
        "X_train_if = X_train.copy()\n",
        "X_test_if = X_test.copy()\n",
        "y_train_if = y_train.copy()\n",
        "y_test_if = y_test.copy()\n",
        "\n",
        "X_train_scaled_if = X_train_scaled.copy()\n",
        "X_test_scaled_if = X_test_scaled.copy()\n",
        "\n",
        "# Identificando as variáveis categóricas\n",
        "categorical_cols_if = X_if.select_dtypes(include='object').columns\n",
        "\n",
        "# Aplicando one-hot encoding nas variáveis categóricas\n",
        "X_if = pd.get_dummies(X_if, columns=categorical_cols_if, drop_first=True)\n",
        "\n",
        "# Treinando o modelo não supervisionado\n",
        "iso = IsolationForest(contamination=0.015, random_state=42)  # Ajustando a contaminação conforme a taxa de glosa real\n",
        "iso.fit(X_train_scaled_if) # Ajustando apenas os dados de treinamento\n",
        "\n",
        "# Predição no conjunto de teste\n",
        "y_pred_test_if = iso.predict(X_test_scaled_if)\n",
        "\n",
        "# Isolation Forest retorna:\n",
        "# -1 para anomalia\n",
        "#  1 para normal\n",
        "# Vamos transformar para 1 = glosa (anomalia), 0 = normal, para bater com y_true\n",
        "y_pred_bin_if = np.where(y_pred_test_if == -1, 1, 0)"
      ]
    },
    {
      "cell_type": "code",
      "execution_count": null,
      "metadata": {
        "colab": {
          "base_uri": "https://localhost:8080/",
          "height": 809
        },
        "collapsed": true,
        "id": "aDgJ_8_LoN1U",
        "outputId": "c6286143-9472-4af2-a37b-abbee3c696c1"
      },
      "outputs": [],
      "source": [
        "# Métricas\n",
        "print(\"\\n🔍 Classification Report:\")\n",
        "print(classification_report(y_test_if, y_pred_bin_if, digits=4))\n",
        "\n",
        "print(\"\\n📊 Confusion Matrix:\")\n",
        "print(confusion_matrix(y_test_if, y_pred_bin_if))\n",
        "\n",
        "# Isolation Forest does not output probabilities, so we cannot calculate ROC AUC and PR AUC in the traditional way\n",
        "# However, we can use the decision_function output as a score\n",
        "y_scores_if = iso.decision_function(X_test_scaled_if)\n",
        "\n",
        "# In Isolation Forest, lower scores indicate anomalies (glosa)\n",
        "# We need to invert the scores for ROC AUC and PR AUC where higher scores indicate the positive class (glosa=1)\n",
        "y_scores_inverted_if = -y_scores_if\n",
        "\n",
        "roc_auc = roc_auc_score(y_test_if, y_scores_inverted_if)\n",
        "pr_auc = average_precision_score(y_test_if, y_scores_inverted_if)\n",
        "print(f\"\\n📈 ROC AUC: {roc_auc:.4f}\")\n",
        "print(f\"📉 PR AUC (Average Precision): {pr_auc:.4f}\")\n",
        "\n",
        "# Curva Precision-Recall\n",
        "precision, recall, _ = precision_recall_curve(y_test, y_scores_inverted_if)\n",
        "plt.figure(figsize=(8, 5))\n",
        "plt.plot(recall, precision, label=f'PR AUC = {pr_auc:.4f}')\n",
        "plt.xlabel('Recall')\n",
        "plt.ylabel('Precision')\n",
        "plt.title('Precision-Recall Curve')\n",
        "plt.grid()\n",
        "plt.legend()\n",
        "plt.show()"
      ]
    },
    {
      "cell_type": "markdown",
      "metadata": {
        "id": "kefW4QvhB0__"
      },
      "source": [
        "Randon Forest - Modelo\n",
        "---"
      ]
    },
    {
      "cell_type": "code",
      "execution_count": 42,
      "metadata": {
        "id": "vUO9jolvNJwF"
      },
      "outputs": [],
      "source": [
        "# Copiando as variáveis\n",
        "X_rf = X.copy()\n",
        "y_true_rf = y_true.copy()\n",
        "\n",
        "X_train_rf = X_train.copy()\n",
        "X_test_rf = X_test.copy()\n",
        "y_train_rf = y_train.copy()\n",
        "y_test_rf = y_test.copy()\n",
        "\n",
        "X_train_scaled_rf = X_train_scaled.copy()\n",
        "X_test_scaled_rf = X_test_scaled.copy()\n",
        "\n",
        "# SMOTE\n",
        "\n",
        "# Identificando as variáveis categóricas\n",
        "categorical_cols_rf = X_rf.select_dtypes(include='object').columns\n",
        "\n",
        "# Aplicando one-hot encoding nas variáveis categóricas\n",
        "X_rf = pd.get_dummies(X_rf, columns=categorical_cols_rf, drop_first=True)\n",
        "\n",
        "# --- #\n",
        "\n",
        "# Pipeline: Randon Forest sem balanceamento\n",
        "rf_sem = RandomForestClassifier(\n",
        "    n_estimators=100,\n",
        "    random_state=42,\n",
        "    n_jobs=-1)\n",
        "\n",
        "# Pipeline: RandomForest com balanceamento SMOTE\n",
        "\n",
        "# Normalizando os dados para o SMOTE\n",
        "X_train_rf_res, y_train_rf_res = SMOTE().fit_resample(X_train_rf, y_train_rf)\n",
        "\n",
        "scaler_rf = StandardScaler()\n",
        "X_train_scaled_rf_smote = scaler_rf.fit_transform(X_train_rf_res)\n",
        "X_test_scaled_rf_smote = scaler_rf.transform(X_test_rf)\n",
        "\n",
        "rf_com_smote = ImbPipeline(steps=[\n",
        "    ('smote', SMOTE(sampling_strategy='auto', random_state=42)),\n",
        "    ('clf', RandomForestClassifier(\n",
        "        n_estimators=100,\n",
        "        random_state=42,\n",
        "        n_jobs=-1\n",
        "    ))\n",
        "])\n",
        "\n",
        "# Pipeline: RandomForest com balaceamento class_weight='balanced'\n",
        "rf_com_weight = RandomForestClassifier(\n",
        "    n_estimators=100,\n",
        "    class_weight='balanced',\n",
        "    random_state=42,\n",
        "    n_jobs=-1\n",
        ")"
      ]
    },
    {
      "cell_type": "code",
      "execution_count": 43,
      "metadata": {
        "id": "MRSvkAMgI9F2"
      },
      "outputs": [],
      "source": [
        "# Treinamento e predição RF sem balanceamento\n",
        "rf_sem.fit(X_train_scaled_rf, y_train_rf)\n",
        "y_pred_sem_rf = rf_sem.predict(X_test_scaled_rf)\n",
        "y_proba_sem_rf = rf_sem.predict_proba(X_test_scaled_rf)[:, 1]"
      ]
    },
    {
      "cell_type": "code",
      "execution_count": null,
      "metadata": {
        "colab": {
          "base_uri": "https://localhost:8080/"
        },
        "id": "R7LWe2l_LXC-",
        "outputId": "820f9adb-a1c4-4c49-c61f-01a56192d16a"
      },
      "outputs": [],
      "source": [
        "# Validação do SMOTE\n",
        "print(\"Antes do SMOTE:\", np.bincount(y_train_rf))\n",
        "print(\"Depois do SMOTE:\", np.bincount(y_train_rf_res))"
      ]
    },
    {
      "cell_type": "code",
      "execution_count": 45,
      "metadata": {
        "id": "cQ7VHuP9I83d"
      },
      "outputs": [],
      "source": [
        "# Treinamento e predição RF comm balanceamento SMOTE\n",
        "rf_com_smote.fit(X_train_scaled_rf_smote, y_train_rf_res)\n",
        "y_pred_smote_rf = rf_com_smote.predict(X_test_scaled_rf_smote)\n",
        "y_proba_smote_rf = rf_com_smote.predict_proba(X_test_scaled_rf_smote)[:, 1]"
      ]
    },
    {
      "cell_type": "code",
      "execution_count": 46,
      "metadata": {
        "id": "oGol4rnn9R3b"
      },
      "outputs": [],
      "source": [
        "# Treinamento e predição RF comm balanceamento Weight\n",
        "rf_com_weight.fit(X_train_scaled_rf, y_train_rf)\n",
        "y_pred_weight_rf = rf_com_weight.predict(X_test_scaled_rf)\n",
        "y_proba_weight_rf = rf_com_weight.predict_proba(X_test_scaled_rf)[:, 1]"
      ]
    },
    {
      "cell_type": "code",
      "execution_count": null,
      "metadata": {
        "colab": {
          "base_uri": "https://localhost:8080/",
          "height": 809
        },
        "id": "5zEWFjfyN3md",
        "outputId": "ff7e096e-2812-43b5-97eb-9bc8b61dc34e"
      },
      "outputs": [],
      "source": [
        "# Métricas - RF sem balaceamento\n",
        "y_test = y_test_rf\n",
        "y_pred = y_pred_sem_rf\n",
        "y_proba = y_proba_sem_rf\n",
        "\n",
        "print(\"\\n🔍 Classification Report:\")\n",
        "print(classification_report(y_test, y_pred, digits=4))\n",
        "\n",
        "print(\"\\n📊 Confusion Matrix:\")\n",
        "print(confusion_matrix(y_test, y_pred))\n",
        "\n",
        "roc_auc = roc_auc_score(y_test, y_proba)\n",
        "pr_auc = average_precision_score(y_test, y_proba)\n",
        "print(f\"\\n📈 ROC AUC: {roc_auc:.4f}\")\n",
        "print(f\"📉 PR AUC (Average Precision): {pr_auc:.4f}\")\n",
        "\n",
        "# Curva Precision-Recall\n",
        "precision, recall, _ = precision_recall_curve(y_test, y_proba)\n",
        "plt.figure(figsize=(8, 5))\n",
        "plt.plot(recall, precision, label=f'PR AUC = {pr_auc:.4f}')\n",
        "plt.xlabel('Recall')\n",
        "plt.ylabel('Precision')\n",
        "plt.title('Precision-Recall Curve')\n",
        "plt.grid()\n",
        "plt.legend()\n",
        "plt.show()"
      ]
    },
    {
      "cell_type": "code",
      "execution_count": null,
      "metadata": {
        "colab": {
          "base_uri": "https://localhost:8080/",
          "height": 809
        },
        "id": "uBKLTXGZwpUP",
        "outputId": "54e1775e-3f05-4464-80d1-5f9a947467da"
      },
      "outputs": [],
      "source": [
        "# Métricas - RF com balaceamento SMOTE\n",
        "y_test = y_test_rf\n",
        "y_pred = y_pred_smote_rf\n",
        "y_proba = y_proba_smote_rf\n",
        "\n",
        "print(\"\\n🔍 Classification Report:\")\n",
        "print(classification_report(y_test, y_pred, digits=4))\n",
        "\n",
        "print(\"\\n📊 Confusion Matrix:\")\n",
        "print(confusion_matrix(y_test, y_pred))\n",
        "\n",
        "roc_auc = roc_auc_score(y_test, y_proba)\n",
        "pr_auc = average_precision_score(y_test, y_proba)\n",
        "print(f\"\\n📈 ROC AUC: {roc_auc:.4f}\")\n",
        "print(f\"📉 PR AUC (Average Precision): {pr_auc:.4f}\")\n",
        "\n",
        "# Curva Precision-Recall\n",
        "precision, recall, _ = precision_recall_curve(y_test, y_proba)\n",
        "plt.figure(figsize=(8, 5))\n",
        "plt.plot(recall, precision, label=f'PR AUC = {pr_auc:.4f}')\n",
        "plt.xlabel('Recall')\n",
        "plt.ylabel('Precision')\n",
        "plt.title('Precision-Recall Curve')\n",
        "plt.grid()\n",
        "plt.legend()\n",
        "plt.show()"
      ]
    },
    {
      "cell_type": "code",
      "execution_count": null,
      "metadata": {
        "colab": {
          "base_uri": "https://localhost:8080/",
          "height": 809
        },
        "id": "fjEo0jZ7EIEm",
        "outputId": "83ee4f8d-7697-4a05-d5aa-af7c092328c9"
      },
      "outputs": [],
      "source": [
        "# Métricas - RF com balaceamento class_weight='balanced'\n",
        "y_test = y_test_rf\n",
        "y_pred = y_pred_weight_rf\n",
        "y_proba = y_proba_weight_rf\n",
        "\n",
        "print(\"\\n🔍 Classification Report:\")\n",
        "print(classification_report(y_test, y_pred, digits=4))\n",
        "\n",
        "print(\"\\n📊 Confusion Matrix:\")\n",
        "print(confusion_matrix(y_test, y_pred))\n",
        "\n",
        "roc_auc = roc_auc_score(y_test, y_proba)\n",
        "pr_auc = average_precision_score(y_test, y_proba)\n",
        "print(f\"\\n📈 ROC AUC: {roc_auc:.4f}\")\n",
        "print(f\"📉 PR AUC (Average Precision): {pr_auc:.4f}\")\n",
        "\n",
        "# Curva Precision-Recall\n",
        "precision, recall, _ = precision_recall_curve(y_test, y_proba)\n",
        "plt.figure(figsize=(8, 5))\n",
        "plt.plot(recall, precision, label=f'PR AUC = {pr_auc:.4f}')\n",
        "plt.xlabel('Recall')\n",
        "plt.ylabel('Precision')\n",
        "plt.title('Precision-Recall Curve')\n",
        "plt.grid()\n",
        "plt.legend()\n",
        "plt.show()"
      ]
    }
  ],
  "metadata": {
    "colab": {
      "authorship_tag": "ABX9TyPSFy7RgkQp+AHs4dBzyrF9",
      "include_colab_link": true,
      "provenance": []
    },
    "kernelspec": {
      "display_name": "Python 3",
      "name": "python3"
    },
    "language_info": {
      "codemirror_mode": {
        "name": "ipython",
        "version": 3
      },
      "file_extension": ".py",
      "mimetype": "text/x-python",
      "name": "python",
      "nbconvert_exporter": "python",
      "pygments_lexer": "ipython3",
      "version": "3.12.3"
    }
  },
  "nbformat": 4,
  "nbformat_minor": 0
}
